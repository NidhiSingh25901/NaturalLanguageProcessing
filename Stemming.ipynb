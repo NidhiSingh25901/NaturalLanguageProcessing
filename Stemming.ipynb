{
  "nbformat": 4,
  "nbformat_minor": 0,
  "metadata": {
    "colab": {
      "provenance": [],
      "authorship_tag": "ABX9TyNLNX9qpAVbm5Cd92Zv27Ut",
      "include_colab_link": true
    },
    "kernelspec": {
      "name": "python3",
      "display_name": "Python 3"
    },
    "language_info": {
      "name": "python"
    }
  },
  "cells": [
    {
      "cell_type": "markdown",
      "metadata": {
        "id": "view-in-github",
        "colab_type": "text"
      },
      "source": [
        "<a href=\"https://colab.research.google.com/github/NidhiSingh25901/NaturalLanguageProcessing/blob/main/Stemming.ipynb\" target=\"_parent\"><img src=\"https://colab.research.google.com/assets/colab-badge.svg\" alt=\"Open In Colab\"/></a>"
      ]
    },
    {
      "cell_type": "code",
      "execution_count": null,
      "metadata": {
        "id": "INCK9DcCTdKx"
      },
      "outputs": [],
      "source": [
        "#Stemming is the process of reducing a word to its word stem that affixes and prefixes or to the roots of words known as lemma.\n",
        "#stemming is important in natural language understanding (NLU) and Natural Language Processing (NLP)"
      ]
    },
    {
      "cell_type": "code",
      "source": [
        "#Classification Problem\n",
        "# Comments of product is a positive review or negative review\n",
        "#reviews ->\n",
        "words = [\"eating\", \"eats\", \"eaten\", \"writing\", \"writes\", \"programming\", \"programs\"]"
      ],
      "metadata": {
        "id": "An2XGVsntLXz"
      },
      "execution_count": 1,
      "outputs": []
    },
    {
      "cell_type": "code",
      "source": [
        "#PorterStemmer\n",
        "from nltk.stem import PorterStemmer\n",
        "stemming = PorterStemmer()"
      ],
      "metadata": {
        "id": "9mBM9Yhwt7r8"
      },
      "execution_count": 6,
      "outputs": []
    },
    {
      "cell_type": "code",
      "source": [
        "for word in words:\n",
        "  print(word+ \"------>\" +stemming.stem(word))"
      ],
      "metadata": {
        "colab": {
          "base_uri": "https://localhost:8080/"
        },
        "id": "vodjcsyevZKt",
        "outputId": "1fd12063-2d02-49fb-cac1-f14f73eba440"
      },
      "execution_count": 8,
      "outputs": [
        {
          "output_type": "stream",
          "name": "stdout",
          "text": [
            "eating------>eat\n",
            "eats------>eat\n",
            "eaten------>eaten\n",
            "writing------>write\n",
            "writes------>write\n",
            "programming------>program\n",
            "programs------>program\n"
          ]
        }
      ]
    },
    {
      "cell_type": "code",
      "source": [
        "#Regexpstemmer class which with the help of which we can easily implement regular expression stemmer algorithms.\n",
        "\n",
        "from nltk.stem import RegexpStemmer\n",
        "stemmer = RegexpStemmer('ing$|e$|ed$|able$', min=4)"
      ],
      "metadata": {
        "id": "HGBFqRMjwmqg"
      },
      "execution_count": 13,
      "outputs": []
    },
    {
      "cell_type": "code",
      "source": [
        "for word in words:\n",
        "  print(word+\"----->\"+ stemmer.stem(word))"
      ],
      "metadata": {
        "colab": {
          "base_uri": "https://localhost:8080/"
        },
        "id": "GStehJ3lyEu2",
        "outputId": "8f18f150-4e45-4c0f-a177-3332a9f0bcd6"
      },
      "execution_count": 14,
      "outputs": [
        {
          "output_type": "stream",
          "name": "stdout",
          "text": [
            "eating----->eat\n",
            "eats----->eats\n",
            "eaten----->eaten\n",
            "writing----->writ\n",
            "writes----->writes\n",
            "programming----->programm\n",
            "programs----->programs\n"
          ]
        }
      ]
    },
    {
      "cell_type": "code",
      "source": [
        "#Snowball stemmer"
      ],
      "metadata": {
        "id": "E6JOq7k4yVA9"
      },
      "execution_count": null,
      "outputs": []
    },
    {
      "cell_type": "code",
      "source": [
        "from nltk.stem import SnowballStemmer"
      ],
      "metadata": {
        "id": "zIWOjY27ya7W"
      },
      "execution_count": 17,
      "outputs": []
    },
    {
      "cell_type": "code",
      "source": [
        "Stemmer = SnowballStemmer('english')"
      ],
      "metadata": {
        "id": "Gq0lN7s0ykrG"
      },
      "execution_count": 18,
      "outputs": []
    },
    {
      "cell_type": "code",
      "source": [
        "for word in words:\n",
        "  print(word+\"---->\"+Stemmer.stem(word))"
      ],
      "metadata": {
        "colab": {
          "base_uri": "https://localhost:8080/"
        },
        "id": "YrGy3zScys4n",
        "outputId": "9805dd82-03bd-4e8c-985e-59004256bd9c"
      },
      "execution_count": 19,
      "outputs": [
        {
          "output_type": "stream",
          "name": "stdout",
          "text": [
            "eating---->eat\n",
            "eats---->eat\n",
            "eaten---->eaten\n",
            "writing---->write\n",
            "writes---->write\n",
            "programming---->program\n",
            "programs---->program\n"
          ]
        }
      ]
    },
    {
      "cell_type": "code",
      "source": [
        "Stemmer.stem('fairly'),Stemmer.stem('sportingly')"
      ],
      "metadata": {
        "colab": {
          "base_uri": "https://localhost:8080/"
        },
        "id": "iPug5myLzAdW",
        "outputId": "e53796e5-10ae-42d2-ee4e-5d5bd098a465"
      },
      "execution_count": 27,
      "outputs": [
        {
          "output_type": "execute_result",
          "data": {
            "text/plain": [
              "('fair', 'sport')"
            ]
          },
          "metadata": {},
          "execution_count": 27
        }
      ]
    },
    {
      "cell_type": "code",
      "source": [
        "stemmer.stem('fairly'),stemmer.stem('sportingly')"
      ],
      "metadata": {
        "colab": {
          "base_uri": "https://localhost:8080/"
        },
        "id": "YUyhAEtizJ8T",
        "outputId": "6b8753a2-be7a-4699-b481-df36503de061"
      },
      "execution_count": 26,
      "outputs": [
        {
          "output_type": "execute_result",
          "data": {
            "text/plain": [
              "('fairly', 'sportingly')"
            ]
          },
          "metadata": {},
          "execution_count": 26
        }
      ]
    },
    {
      "cell_type": "code",
      "source": [
        "stemming.stem('fairly'),stemming.stem('sportingly')"
      ],
      "metadata": {
        "colab": {
          "base_uri": "https://localhost:8080/"
        },
        "id": "Das7exLszMcB",
        "outputId": "56e1bf8d-effe-416f-85a5-aad9016b7ab2"
      },
      "execution_count": 25,
      "outputs": [
        {
          "output_type": "execute_result",
          "data": {
            "text/plain": [
              "('fairli', 'sportingli')"
            ]
          },
          "metadata": {},
          "execution_count": 25
        }
      ]
    }
  ]
}