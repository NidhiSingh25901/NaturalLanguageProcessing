{
  "nbformat": 4,
  "nbformat_minor": 0,
  "metadata": {
    "colab": {
      "provenance": [],
      "authorship_tag": "ABX9TyMR1Qe5GTS4zf+pPVaB0iNM",
      "include_colab_link": true
    },
    "kernelspec": {
      "name": "python3",
      "display_name": "Python 3"
    },
    "language_info": {
      "name": "python"
    }
  },
  "cells": [
    {
      "cell_type": "markdown",
      "metadata": {
        "id": "view-in-github",
        "colab_type": "text"
      },
      "source": [
        "<a href=\"https://colab.research.google.com/github/NidhiSingh25901/NaturalLanguageProcessing/blob/main/word2vec.ipynb\" target=\"_parent\"><img src=\"https://colab.research.google.com/assets/colab-badge.svg\" alt=\"Open In Colab\"/></a>"
      ]
    },
    {
      "cell_type": "code",
      "execution_count": 2,
      "metadata": {
        "colab": {
          "base_uri": "https://localhost:8080/",
          "height": 688
        },
        "id": "5Yy3qrPh7IZc",
        "outputId": "fcbea849-0bd8-4936-8e53-7c8e83c02702"
      },
      "outputs": [
        {
          "output_type": "stream",
          "name": "stdout",
          "text": [
            "Collecting gensim\n",
            "  Downloading gensim-4.3.3-cp312-cp312-manylinux_2_17_x86_64.manylinux2014_x86_64.whl.metadata (8.1 kB)\n",
            "Collecting numpy<2.0,>=1.18.5 (from gensim)\n",
            "  Downloading numpy-1.26.4-cp312-cp312-manylinux_2_17_x86_64.manylinux2014_x86_64.whl.metadata (61 kB)\n",
            "\u001b[2K     \u001b[90m━━━━━━━━━━━━━━━━━━━━━━━━━━━━━━━━━━━━━━━━\u001b[0m \u001b[32m61.0/61.0 kB\u001b[0m \u001b[31m4.5 MB/s\u001b[0m eta \u001b[36m0:00:00\u001b[0m\n",
            "\u001b[?25hCollecting scipy<1.14.0,>=1.7.0 (from gensim)\n",
            "  Downloading scipy-1.13.1-cp312-cp312-manylinux_2_17_x86_64.manylinux2014_x86_64.whl.metadata (60 kB)\n",
            "\u001b[2K     \u001b[90m━━━━━━━━━━━━━━━━━━━━━━━━━━━━━━━━━━━━━━━━\u001b[0m \u001b[32m60.6/60.6 kB\u001b[0m \u001b[31m4.8 MB/s\u001b[0m eta \u001b[36m0:00:00\u001b[0m\n",
            "\u001b[?25hRequirement already satisfied: smart-open>=1.8.1 in /usr/local/lib/python3.12/dist-packages (from gensim) (7.3.1)\n",
            "Requirement already satisfied: wrapt in /usr/local/lib/python3.12/dist-packages (from smart-open>=1.8.1->gensim) (1.17.3)\n",
            "Downloading gensim-4.3.3-cp312-cp312-manylinux_2_17_x86_64.manylinux2014_x86_64.whl (26.6 MB)\n",
            "\u001b[2K   \u001b[90m━━━━━━━━━━━━━━━━━━━━━━━━━━━━━━━━━━━━━━━━\u001b[0m \u001b[32m26.6/26.6 MB\u001b[0m \u001b[31m58.2 MB/s\u001b[0m eta \u001b[36m0:00:00\u001b[0m\n",
            "\u001b[?25hDownloading numpy-1.26.4-cp312-cp312-manylinux_2_17_x86_64.manylinux2014_x86_64.whl (18.0 MB)\n",
            "\u001b[2K   \u001b[90m━━━━━━━━━━━━━━━━━━━━━━━━━━━━━━━━━━━━━━━━\u001b[0m \u001b[32m18.0/18.0 MB\u001b[0m \u001b[31m85.5 MB/s\u001b[0m eta \u001b[36m0:00:00\u001b[0m\n",
            "\u001b[?25hDownloading scipy-1.13.1-cp312-cp312-manylinux_2_17_x86_64.manylinux2014_x86_64.whl (38.2 MB)\n",
            "\u001b[2K   \u001b[90m━━━━━━━━━━━━━━━━━━━━━━━━━━━━━━━━━━━━━━━━\u001b[0m \u001b[32m38.2/38.2 MB\u001b[0m \u001b[31m14.9 MB/s\u001b[0m eta \u001b[36m0:00:00\u001b[0m\n",
            "\u001b[?25hInstalling collected packages: numpy, scipy, gensim\n",
            "  Attempting uninstall: numpy\n",
            "    Found existing installation: numpy 2.0.2\n",
            "    Uninstalling numpy-2.0.2:\n",
            "      Successfully uninstalled numpy-2.0.2\n",
            "  Attempting uninstall: scipy\n",
            "    Found existing installation: scipy 1.16.2\n",
            "    Uninstalling scipy-1.16.2:\n",
            "      Successfully uninstalled scipy-1.16.2\n",
            "\u001b[31mERROR: pip's dependency resolver does not currently take into account all the packages that are installed. This behaviour is the source of the following dependency conflicts.\n",
            "opencv-python 4.12.0.88 requires numpy<2.3.0,>=2; python_version >= \"3.9\", but you have numpy 1.26.4 which is incompatible.\n",
            "tsfresh 0.21.1 requires scipy>=1.14.0; python_version >= \"3.10\", but you have scipy 1.13.1 which is incompatible.\n",
            "thinc 8.3.6 requires numpy<3.0.0,>=2.0.0, but you have numpy 1.26.4 which is incompatible.\n",
            "opencv-contrib-python 4.12.0.88 requires numpy<2.3.0,>=2; python_version >= \"3.9\", but you have numpy 1.26.4 which is incompatible.\n",
            "opencv-python-headless 4.12.0.88 requires numpy<2.3.0,>=2; python_version >= \"3.9\", but you have numpy 1.26.4 which is incompatible.\u001b[0m\u001b[31m\n",
            "\u001b[0mSuccessfully installed gensim-4.3.3 numpy-1.26.4 scipy-1.13.1\n"
          ]
        },
        {
          "output_type": "display_data",
          "data": {
            "application/vnd.colab-display-data+json": {
              "pip_warning": {
                "packages": [
                  "numpy"
                ]
              },
              "id": "b18e4da629eb45d6acbfda9d2ea23c6d"
            }
          },
          "metadata": {}
        }
      ],
      "source": [
        "!pip install gensim"
      ]
    },
    {
      "cell_type": "code",
      "source": [
        "import gensim"
      ],
      "metadata": {
        "id": "A3anQhFH7Zcx"
      },
      "execution_count": 1,
      "outputs": []
    },
    {
      "cell_type": "code",
      "source": [
        "from gensim.models import Word2Vec, KeyedVectors"
      ],
      "metadata": {
        "id": "Fet6zsVk7tk1"
      },
      "execution_count": 2,
      "outputs": []
    },
    {
      "cell_type": "code",
      "source": [
        "import gensim.downloader as api\n",
        "wv = api.load('word2vec-google-news-300')\n",
        "\n",
        "vec_king = wv['king']\n"
      ],
      "metadata": {
        "id": "HjO1110Z7yje"
      },
      "execution_count": 4,
      "outputs": []
    },
    {
      "cell_type": "code",
      "source": [
        "wv.most_similar('hockey')"
      ],
      "metadata": {
        "id": "Qyuksp9MBkXj",
        "outputId": "c25ca98d-6dbf-45c0-df27-66e9e2c005f2",
        "colab": {
          "base_uri": "https://localhost:8080/"
        }
      },
      "execution_count": 5,
      "outputs": [
        {
          "output_type": "execute_result",
          "data": {
            "text/plain": [
              "[('Hockey', 0.7227486968040466),\n",
              " ('Ice_Hockey', 0.6408185362815857),\n",
              " ('lacrosse', 0.6390798091888428),\n",
              " ('peewee_hockey', 0.6332175731658936),\n",
              " ('soccer', 0.6270937919616699),\n",
              " ('Hockey_League', 0.6250644326210022),\n",
              " ('pee_wee_hockey', 0.6238211393356323),\n",
              " ('basketball', 0.6131464242935181),\n",
              " ('midget_hockey', 0.6043297052383423),\n",
              " ('NHL', 0.5965192914009094)]"
            ]
          },
          "metadata": {},
          "execution_count": 5
        }
      ]
    },
    {
      "cell_type": "code",
      "source": [
        "wv.most_similar('cricket', 'happy')"
      ],
      "metadata": {
        "id": "Gprey2RNBu4l",
        "outputId": "1aeba1b9-8d56-44f4-c5dd-36c6732ba229",
        "colab": {
          "base_uri": "https://localhost:8080/"
        }
      },
      "execution_count": 8,
      "outputs": [
        {
          "output_type": "execute_result",
          "data": {
            "text/plain": [
              "[('cricketing', 0.5962744355201721),\n",
              " ('cricketers', 0.5498184561729431),\n",
              " ('Twenty##_cricket', 0.5307191014289856),\n",
              " ('Cricket', 0.5198609828948975),\n",
              " ('Test_cricket', 0.5093305110931396),\n",
              " ('Twenty##', 0.5039591789245605),\n",
              " ('twenty##', 0.48683008551597595),\n",
              " ('cricketer', 0.4779813289642334),\n",
              " ('Cricket_Board', 0.4585385024547577),\n",
              " ('ODI', 0.45691734552383423)]"
            ]
          },
          "metadata": {},
          "execution_count": 8
        }
      ]
    },
    {
      "cell_type": "code",
      "source": [
        "vec = wv['cricket']-wv['hockey']-wv['sad']+wv['sports']\n",
        "vec"
      ],
      "metadata": {
        "id": "cd-GTG2qB2DD",
        "outputId": "bae341f3-8730-4445-9d15-ff5282a75d99",
        "colab": {
          "base_uri": "https://localhost:8080/"
        }
      },
      "execution_count": 10,
      "outputs": [
        {
          "output_type": "execute_result",
          "data": {
            "text/plain": [
              "array([-0.40185547, -0.06213379,  0.02783203, -0.2927246 , -0.04785156,\n",
              "       -0.1315918 , -0.26757812, -0.28979492, -0.53741455, -0.1899414 ,\n",
              "       -0.00512695, -0.48535156,  0.21411133,  0.2290039 , -0.06787109,\n",
              "        0.3857422 , -0.30621338,  0.13208008,  0.6323242 ,  0.48535156,\n",
              "       -0.30004883, -0.32177734, -0.22058105, -0.12628174,  0.04248047,\n",
              "        0.01171875, -0.43371582,  0.45959473,  0.20996094,  0.01464844,\n",
              "       -0.0135498 ,  0.14355469, -0.3133545 ,  0.19647217, -0.18969727,\n",
              "        0.02429199, -0.12402344, -0.11795044,  0.3242798 , -0.02294922,\n",
              "       -0.20507812, -0.2631836 , -0.17817688,  0.6977539 , -0.21972656,\n",
              "       -0.08300781,  0.3227539 , -0.38867188,  0.03979492,  0.18896484,\n",
              "        0.07910156, -0.21173096, -0.29599   , -0.31628418, -0.07128906,\n",
              "       -0.02191162, -0.30566406, -0.27202988, -0.18572998,  0.12268066,\n",
              "       -0.2836914 , -0.34147644, -0.4572754 , -0.22363281,  0.23413086,\n",
              "        0.6411133 , -0.2585764 ,  0.1706543 ,  0.01824951,  0.1574707 ,\n",
              "       -0.2298584 , -0.17895508, -0.11157227,  0.2292633 ,  0.10290527,\n",
              "        0.14630127,  0.23706055, -0.17602539, -0.44067383, -0.6142578 ,\n",
              "        0.01062012, -0.19750977, -0.19360352,  0.36621094,  0.16381836,\n",
              "        0.60253906,  0.48950195, -0.12695312, -0.31152344,  0.09875488,\n",
              "        0.17529297, -0.08984375, -0.05096436, -0.24658203,  0.40112305,\n",
              "        0.30786133,  0.16113281, -0.17756653,  0.03302002,  0.3095398 ,\n",
              "        0.07666016,  0.29541016,  0.31469727, -0.12939453,  0.13671875,\n",
              "        0.1381836 ,  0.01953125,  0.2397461 ,  0.16351318, -0.0195694 ,\n",
              "        0.09222412,  0.05584717,  0.17245483,  0.19613647,  0.50512695,\n",
              "        0.07373047, -0.6641846 , -0.08837891, -0.00891113,  0.03039551,\n",
              "       -0.02441406,  0.1763916 , -0.16064453,  0.56689453, -0.0612793 ,\n",
              "        0.39111328,  0.23144531,  0.29882812, -0.19482422, -0.24450684,\n",
              "       -0.11279297, -0.04162598, -0.09130859, -0.46044922, -0.11740112,\n",
              "       -0.0501709 ,  0.24194336,  0.31445312,  0.1496582 , -0.03643799,\n",
              "        0.08056641, -0.03515625, -0.21044922, -0.15783691,  0.0234375 ,\n",
              "       -0.23937988,  0.32226562, -0.38623047,  0.39013672,  0.46044922,\n",
              "       -0.13964844, -0.29345703, -0.17675781, -0.55029297, -0.34765625,\n",
              "       -0.26782227, -0.2775879 , -0.5214844 ,  0.234375  , -0.12792969,\n",
              "       -0.05932617, -0.3696289 , -0.43151855, -0.05792236, -0.6489258 ,\n",
              "        0.23828125,  0.16552734, -0.35058594, -0.20996094, -0.33325195,\n",
              "       -0.46289062,  0.11694336,  0.18945312, -0.09960938,  0.04101562,\n",
              "       -0.2998047 , -0.15942383, -0.33911133, -0.59661865,  0.07684326,\n",
              "       -0.16888428,  0.43078613, -0.22558594, -0.26086426,  0.64256287,\n",
              "       -0.20007324,  0.12976074, -0.20605469,  0.40234375, -0.24560547,\n",
              "       -0.11132812,  0.42211914, -0.2086792 ,  0.00927734, -0.17948246,\n",
              "       -0.04528809,  0.15600586,  0.1368103 ,  0.24328613, -0.47198486,\n",
              "        0.17028809, -0.22314453, -0.20458984,  0.27685547, -0.14987183,\n",
              "       -0.34692383,  0.2088623 , -0.5800781 ,  0.2602539 ,  0.14782715,\n",
              "       -0.0201416 , -0.02331543, -0.00488281, -0.07910156,  0.22216797,\n",
              "       -0.24072266, -0.2529297 , -0.07080078, -0.10302734,  0.10002136,\n",
              "       -0.2833557 , -0.5751953 , -0.60253906, -0.08740234, -0.22363281,\n",
              "        0.6873779 ,  0.23486328,  0.00537109,  0.2590332 , -0.25167847,\n",
              "       -0.18603516, -0.17993164,  0.34240723,  0.12536621, -0.43725586,\n",
              "        0.13769531,  0.7792969 ,  0.29003906,  0.22753906, -0.36236572,\n",
              "       -0.05175781, -0.06835938,  0.13647461,  0.11376953,  0.26290894,\n",
              "       -0.3173828 , -0.00683594, -0.22348022,  0.07885742,  0.52856445,\n",
              "        0.3486328 , -0.08837891, -0.30810547, -0.11914062,  0.31396484,\n",
              "        0.18847656, -0.20275879,  0.09179688,  0.13061523,  0.3717041 ,\n",
              "       -0.12402344,  0.12542725,  0.20996094,  0.14257812, -0.31298828,\n",
              "       -0.4321289 , -0.19555664,  0.15161133, -0.10449219, -0.25842285,\n",
              "       -0.02026367, -0.03466797, -0.5385742 , -0.08544922,  0.0993042 ,\n",
              "        0.09472656,  0.2241211 , -0.57406616,  0.26327515, -0.15612793,\n",
              "       -0.06860352,  0.44555664, -0.22216797, -0.4649048 ,  0.1595459 ,\n",
              "        0.44030762,  0.19677734,  0.36935425,  0.00830078,  0.5996094 ,\n",
              "        0.1538086 ,  0.1595459 ,  0.04957199, -0.37597656,  0.20336914,\n",
              "       -0.11352539, -0.17773438,  0.30810547, -0.00634766,  0.21520996],\n",
              "      dtype=float32)"
            ]
          },
          "metadata": {},
          "execution_count": 10
        }
      ]
    },
    {
      "cell_type": "code",
      "source": [
        "wv.most_similar([vec])"
      ],
      "metadata": {
        "id": "W-U13VKmCHNm",
        "outputId": "0911ebfb-6401-40ed-e7d5-5f6e2d032cd9",
        "colab": {
          "base_uri": "https://localhost:8080/"
        }
      },
      "execution_count": 11,
      "outputs": [
        {
          "output_type": "execute_result",
          "data": {
            "text/plain": [
              "[('cricket', 0.548936128616333),\n",
              " ('Twenty##_cricket', 0.4725315570831299),\n",
              " ('cricketers', 0.4564597010612488),\n",
              " ('cricketing', 0.4564161002635956),\n",
              " ('IPL', 0.43741318583488464),\n",
              " ('Wales_Cricket', 0.4276328980922699),\n",
              " ('Cricket', 0.4242359399795532),\n",
              " ('Test_cricket', 0.42278987169265747),\n",
              " ('Cricinfo', 0.4093419909477234),\n",
              " ('Twenty##', 0.4030926823616028)]"
            ]
          },
          "metadata": {},
          "execution_count": 11
        }
      ]
    },
    {
      "cell_type": "code",
      "source": [],
      "metadata": {
        "id": "bKEw9jsHCUmE"
      },
      "execution_count": null,
      "outputs": []
    }
  ]
}