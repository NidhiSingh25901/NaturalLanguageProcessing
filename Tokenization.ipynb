{
  "nbformat": 4,
  "nbformat_minor": 0,
  "metadata": {
    "colab": {
      "provenance": [],
      "authorship_tag": "ABX9TyMY3pjgEsTdgCSMUvAcsusH",
      "include_colab_link": true
    },
    "kernelspec": {
      "name": "python3",
      "display_name": "Python 3"
    },
    "language_info": {
      "name": "python"
    }
  },
  "cells": [
    {
      "cell_type": "markdown",
      "metadata": {
        "id": "view-in-github",
        "colab_type": "text"
      },
      "source": [
        "<a href=\"https://colab.research.google.com/github/NidhiSingh25901/NaturalLanguageProcessing/blob/main/Tokenization.ipynb\" target=\"_parent\"><img src=\"https://colab.research.google.com/assets/colab-badge.svg\" alt=\"Open In Colab\"/></a>"
      ]
    },
    {
      "cell_type": "code",
      "execution_count": 1,
      "metadata": {
        "colab": {
          "base_uri": "https://localhost:8080/"
        },
        "id": "PSy1B4KQQPi3",
        "outputId": "f93b1d35-8bbe-473a-c1e1-49b315d22f6a"
      },
      "outputs": [
        {
          "output_type": "stream",
          "name": "stdout",
          "text": [
            "Requirement already satisfied: nltk in /usr/local/lib/python3.12/dist-packages (3.9.1)\n",
            "Requirement already satisfied: click in /usr/local/lib/python3.12/dist-packages (from nltk) (8.3.0)\n",
            "Requirement already satisfied: joblib in /usr/local/lib/python3.12/dist-packages (from nltk) (1.5.2)\n",
            "Requirement already satisfied: regex>=2021.8.3 in /usr/local/lib/python3.12/dist-packages (from nltk) (2024.11.6)\n",
            "Requirement already satisfied: tqdm in /usr/local/lib/python3.12/dist-packages (from nltk) (4.67.1)\n"
          ]
        }
      ],
      "source": [
        "%pip install nltk"
      ]
    },
    {
      "cell_type": "code",
      "source": [
        "from nltk.tokenize import word_tokenize, sent_tokenize"
      ],
      "metadata": {
        "id": "YYgGQAAMRnRK"
      },
      "execution_count": 10,
      "outputs": []
    },
    {
      "cell_type": "code",
      "source": [
        "corpus = \"\"\" Hello, My name is Nidhi Singh. I am learning NLP.\n",
        "NLP stands for Natural Language Processing. Basic of NLP is tokenization where\n",
        "important topics are corpus, Documentsm Vocabulary, words.\n",
        "\"\"\""
      ],
      "metadata": {
        "id": "B2-RoLblQSsZ"
      },
      "execution_count": 11,
      "outputs": []
    },
    {
      "cell_type": "code",
      "source": [
        "print(corpus)"
      ],
      "metadata": {
        "colab": {
          "base_uri": "https://localhost:8080/"
        },
        "id": "5WeNlkkrRGE9",
        "outputId": "7072587b-afe3-47de-8249-ff31f904ac22"
      },
      "execution_count": 12,
      "outputs": [
        {
          "output_type": "stream",
          "name": "stdout",
          "text": [
            " Hello, My name is Nidhi Singh. I am learning NLP. \n",
            "NLP stands for Natural Language Processing. Basic of NLP is tokenization where\n",
            "important topics are corpus, Documentsm Vocabulary, words. \n",
            "\n"
          ]
        }
      ]
    },
    {
      "cell_type": "code",
      "source": [
        "##Tokenization\n",
        "#Sentence -> Paragraphs\n",
        "from nltk.tokenize import sent_tokenize"
      ],
      "metadata": {
        "id": "Dm6UP903RPmh"
      },
      "execution_count": 13,
      "outputs": []
    },
    {
      "cell_type": "code",
      "source": [
        "import nltk\n",
        "nltk.download('punkt')\n",
        "documents = sent_tokenize(corpus)"
      ],
      "metadata": {
        "colab": {
          "base_uri": "https://localhost:8080/"
        },
        "id": "KUQ6IELVRRTU",
        "outputId": "c7c9ceb1-3b10-431e-d4a9-feceaa055af0"
      },
      "execution_count": 21,
      "outputs": [
        {
          "output_type": "stream",
          "name": "stderr",
          "text": [
            "[nltk_data] Downloading package punkt to /root/nltk_data...\n",
            "[nltk_data]   Package punkt is already up-to-date!\n"
          ]
        }
      ]
    },
    {
      "cell_type": "code",
      "metadata": {
        "colab": {
          "base_uri": "https://localhost:8080/"
        },
        "id": "45254728",
        "outputId": "0fae4232-928d-49c8-e18c-4492299ac073"
      },
      "source": [
        "import nltk\n",
        "nltk.download('punkt_tab')"
      ],
      "execution_count": 20,
      "outputs": [
        {
          "output_type": "stream",
          "name": "stderr",
          "text": [
            "[nltk_data] Downloading package punkt_tab to /root/nltk_data...\n",
            "[nltk_data]   Package punkt_tab is already up-to-date!\n"
          ]
        },
        {
          "output_type": "execute_result",
          "data": {
            "text/plain": [
              "True"
            ]
          },
          "metadata": {},
          "execution_count": 20
        }
      ]
    },
    {
      "cell_type": "code",
      "metadata": {
        "colab": {
          "base_uri": "https://localhost:8080/"
        },
        "id": "0204a7e8",
        "outputId": "0366e56c-f0cf-428d-b00d-9397c306eab7"
      },
      "source": [
        "import nltk\n",
        "nltk.download('punkt')"
      ],
      "execution_count": 16,
      "outputs": [
        {
          "output_type": "stream",
          "name": "stderr",
          "text": [
            "[nltk_data] Downloading package punkt to /root/nltk_data...\n",
            "[nltk_data]   Unzipping tokenizers/punkt.zip.\n"
          ]
        },
        {
          "output_type": "execute_result",
          "data": {
            "text/plain": [
              "True"
            ]
          },
          "metadata": {},
          "execution_count": 16
        }
      ]
    },
    {
      "cell_type": "code",
      "source": [
        "documents"
      ],
      "metadata": {
        "colab": {
          "base_uri": "https://localhost:8080/"
        },
        "id": "T_4Bq8lLRgcp",
        "outputId": "15893094-62a6-4efa-8501-0b15ba531563"
      },
      "execution_count": 22,
      "outputs": [
        {
          "output_type": "execute_result",
          "data": {
            "text/plain": [
              "[' Hello, My name is Nidhi Singh.',\n",
              " 'I am learning NLP.',\n",
              " 'NLP stands for Natural Language Processing.',\n",
              " 'Basic of NLP is tokenization where\\nimportant topics are corpus, Documentsm Vocabulary, words.']"
            ]
          },
          "metadata": {},
          "execution_count": 22
        }
      ]
    },
    {
      "cell_type": "code",
      "source": [
        "for sentences in documents:\n",
        "  print(sentences)"
      ],
      "metadata": {
        "colab": {
          "base_uri": "https://localhost:8080/"
        },
        "id": "yIYLOdfwSP5E",
        "outputId": "e88b20c1-3b1c-4ad5-fec1-db58d67043b9"
      },
      "execution_count": 23,
      "outputs": [
        {
          "output_type": "stream",
          "name": "stdout",
          "text": [
            " Hello, My name is Nidhi Singh.\n",
            "I am learning NLP.\n",
            "NLP stands for Natural Language Processing.\n",
            "Basic of NLP is tokenization where\n",
            "important topics are corpus, Documentsm Vocabulary, words.\n"
          ]
        }
      ]
    },
    {
      "cell_type": "code",
      "source": [
        "##Tokenization\n",
        "##Paragraph into words\n",
        "## senetnce into words\n",
        "from nltk.tokenize import word_tokenize"
      ],
      "metadata": {
        "id": "d5gbpOcmSYlI"
      },
      "execution_count": 25,
      "outputs": []
    },
    {
      "cell_type": "code",
      "source": [
        "word_tokenize(corpus)"
      ],
      "metadata": {
        "colab": {
          "base_uri": "https://localhost:8080/"
        },
        "id": "aghjZjuJSZ4q",
        "outputId": "90ceaa23-cebd-4679-ee4a-e07cf04965b3"
      },
      "execution_count": 26,
      "outputs": [
        {
          "output_type": "execute_result",
          "data": {
            "text/plain": [
              "['Hello',\n",
              " ',',\n",
              " 'My',\n",
              " 'name',\n",
              " 'is',\n",
              " 'Nidhi',\n",
              " 'Singh',\n",
              " '.',\n",
              " 'I',\n",
              " 'am',\n",
              " 'learning',\n",
              " 'NLP',\n",
              " '.',\n",
              " 'NLP',\n",
              " 'stands',\n",
              " 'for',\n",
              " 'Natural',\n",
              " 'Language',\n",
              " 'Processing',\n",
              " '.',\n",
              " 'Basic',\n",
              " 'of',\n",
              " 'NLP',\n",
              " 'is',\n",
              " 'tokenization',\n",
              " 'where',\n",
              " 'important',\n",
              " 'topics',\n",
              " 'are',\n",
              " 'corpus',\n",
              " ',',\n",
              " 'Documentsm',\n",
              " 'Vocabulary',\n",
              " ',',\n",
              " 'words',\n",
              " '.']"
            ]
          },
          "metadata": {},
          "execution_count": 26
        }
      ]
    },
    {
      "cell_type": "code",
      "source": [],
      "metadata": {
        "id": "vaaMuGptSo9c"
      },
      "execution_count": null,
      "outputs": []
    }
  ]
}