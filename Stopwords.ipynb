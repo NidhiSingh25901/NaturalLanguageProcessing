{
  "nbformat": 4,
  "nbformat_minor": 0,
  "metadata": {
    "colab": {
      "provenance": [],
      "authorship_tag": "ABX9TyMaRkzgfSoCsRpkso1XzKE/",
      "include_colab_link": true
    },
    "kernelspec": {
      "name": "python3",
      "display_name": "Python 3"
    },
    "language_info": {
      "name": "python"
    }
  },
  "cells": [
    {
      "cell_type": "markdown",
      "metadata": {
        "id": "view-in-github",
        "colab_type": "text"
      },
      "source": [
        "<a href=\"https://colab.research.google.com/github/NidhiSingh25901/NaturalLanguageProcessing/blob/main/Stopwords.ipynb\" target=\"_parent\"><img src=\"https://colab.research.google.com/assets/colab-badge.svg\" alt=\"Open In Colab\"/></a>"
      ]
    },
    {
      "cell_type": "code",
      "execution_count": 1,
      "metadata": {
        "colab": {
          "base_uri": "https://localhost:8080/"
        },
        "id": "joEQu6M6zn2b",
        "outputId": "62e87fd9-c688-409d-cda9-109a897fc13a"
      },
      "outputs": [
        {
          "output_type": "stream",
          "name": "stderr",
          "text": [
            "[nltk_data] Downloading package stopwords to /root/nltk_data...\n",
            "[nltk_data]   Unzipping corpora/stopwords.zip.\n"
          ]
        },
        {
          "output_type": "execute_result",
          "data": {
            "text/plain": [
              "True"
            ]
          },
          "metadata": {},
          "execution_count": 1
        }
      ],
      "source": [
        "from nltk.stem import PorterStemmer\n",
        "from nltk.corpus import stopwords\n",
        "import nltk\n",
        "nltk.download('stopwords')"
      ]
    },
    {
      "cell_type": "code",
      "source": [
        "paragraph =\"\"\"\n",
        "\"Dream, dream, dream. Dreams transform into thoughts,\n",
        "and thoughts result in action.\"\n",
        "\n",
        "My dear young friends,\n",
        "I have a message for you today. Dream big. Dream gives you vision. Vision leads you to think. Thinking makes you work hard to achieve that vision.\n",
        "\n",
        "When I see young minds like you, I feel energy, I feel brightness, I feel the power that can transform our nation. Each one of you has the ability to make India great. But for that, you must have confidence in yourself.\n",
        "\n",
        "Never say, “I cannot do it.”\n",
        "Say, “I can do it, and I will do it.”\n",
        "\n",
        "🚀 On Success and Failure\n",
        "\n",
        "Don’t fear failure.\n",
        "Failure is the first step to success.\n",
        "If you never fail, you will never learn.\n",
        "When I was working on the SLV-3 rocket, our first launch failed. The whole nation was watching. But we learned from that failure — and in the next attempt, we succeeded.\n",
        "\n",
        "So, remember:\n",
        "\n",
        "“If you fail, never give up.\n",
        "Because F.A.I.L. means First Attempt In Learning.”\n",
        "\n",
        "💫 On Courage and Determination\n",
        "\n",
        "You must have a goal in life — something that excites you every morning.\n",
        "When you have a goal, difficulties will come. But difficulties are not to destroy you; they exist to make you stronger.\n",
        "\n",
        "“Man needs his difficulties because they are necessary to enjoy success.”\n",
        "\n",
        "Have courage to think differently,\n",
        "to invent, to travel unexplored paths,\n",
        "to discover the impossible,\n",
        "and to conquer the problems.\n",
        "\n",
        "🇮🇳 On Nation Building\n",
        "\n",
        "India is a great nation with a rich heritage.\n",
        "But it is in your hands — the hands of the youth — to make her shine brighter.\n",
        "\n",
        "“The ignited mind of the youth is the most powerful resource on the earth.”\n",
        "\n",
        "So, work hard. Be honest. Have compassion.\n",
        "And above all, love your country and contribute to its growth in whatever way you can.\n",
        "\n",
        "✨ Conclusion\n",
        "\n",
        "My young friends,\n",
        "Dream big.\n",
        "Work hard.\n",
        "Have perseverance.\n",
        "And when you achieve success,\n",
        "remember to lift others with you.\n",
        "\n",
        "“You have to dream before your dreams can come true.”\n",
        "\"\"\""
      ],
      "metadata": {
        "id": "173i9Z2u13zl"
      },
      "execution_count": 7,
      "outputs": []
    },
    {
      "cell_type": "code",
      "source": [
        "stopwords.words('english')"
      ],
      "metadata": {
        "colab": {
          "base_uri": "https://localhost:8080/"
        },
        "id": "aOqWfl_M1dG1",
        "outputId": "9b11e0e0-7757-4d08-d684-0249ef42e7af"
      },
      "execution_count": 3,
      "outputs": [
        {
          "output_type": "execute_result",
          "data": {
            "text/plain": [
              "['a',\n",
              " 'about',\n",
              " 'above',\n",
              " 'after',\n",
              " 'again',\n",
              " 'against',\n",
              " 'ain',\n",
              " 'all',\n",
              " 'am',\n",
              " 'an',\n",
              " 'and',\n",
              " 'any',\n",
              " 'are',\n",
              " 'aren',\n",
              " \"aren't\",\n",
              " 'as',\n",
              " 'at',\n",
              " 'be',\n",
              " 'because',\n",
              " 'been',\n",
              " 'before',\n",
              " 'being',\n",
              " 'below',\n",
              " 'between',\n",
              " 'both',\n",
              " 'but',\n",
              " 'by',\n",
              " 'can',\n",
              " 'couldn',\n",
              " \"couldn't\",\n",
              " 'd',\n",
              " 'did',\n",
              " 'didn',\n",
              " \"didn't\",\n",
              " 'do',\n",
              " 'does',\n",
              " 'doesn',\n",
              " \"doesn't\",\n",
              " 'doing',\n",
              " 'don',\n",
              " \"don't\",\n",
              " 'down',\n",
              " 'during',\n",
              " 'each',\n",
              " 'few',\n",
              " 'for',\n",
              " 'from',\n",
              " 'further',\n",
              " 'had',\n",
              " 'hadn',\n",
              " \"hadn't\",\n",
              " 'has',\n",
              " 'hasn',\n",
              " \"hasn't\",\n",
              " 'have',\n",
              " 'haven',\n",
              " \"haven't\",\n",
              " 'having',\n",
              " 'he',\n",
              " \"he'd\",\n",
              " \"he'll\",\n",
              " 'her',\n",
              " 'here',\n",
              " 'hers',\n",
              " 'herself',\n",
              " \"he's\",\n",
              " 'him',\n",
              " 'himself',\n",
              " 'his',\n",
              " 'how',\n",
              " 'i',\n",
              " \"i'd\",\n",
              " 'if',\n",
              " \"i'll\",\n",
              " \"i'm\",\n",
              " 'in',\n",
              " 'into',\n",
              " 'is',\n",
              " 'isn',\n",
              " \"isn't\",\n",
              " 'it',\n",
              " \"it'd\",\n",
              " \"it'll\",\n",
              " \"it's\",\n",
              " 'its',\n",
              " 'itself',\n",
              " \"i've\",\n",
              " 'just',\n",
              " 'll',\n",
              " 'm',\n",
              " 'ma',\n",
              " 'me',\n",
              " 'mightn',\n",
              " \"mightn't\",\n",
              " 'more',\n",
              " 'most',\n",
              " 'mustn',\n",
              " \"mustn't\",\n",
              " 'my',\n",
              " 'myself',\n",
              " 'needn',\n",
              " \"needn't\",\n",
              " 'no',\n",
              " 'nor',\n",
              " 'not',\n",
              " 'now',\n",
              " 'o',\n",
              " 'of',\n",
              " 'off',\n",
              " 'on',\n",
              " 'once',\n",
              " 'only',\n",
              " 'or',\n",
              " 'other',\n",
              " 'our',\n",
              " 'ours',\n",
              " 'ourselves',\n",
              " 'out',\n",
              " 'over',\n",
              " 'own',\n",
              " 're',\n",
              " 's',\n",
              " 'same',\n",
              " 'shan',\n",
              " \"shan't\",\n",
              " 'she',\n",
              " \"she'd\",\n",
              " \"she'll\",\n",
              " \"she's\",\n",
              " 'should',\n",
              " 'shouldn',\n",
              " \"shouldn't\",\n",
              " \"should've\",\n",
              " 'so',\n",
              " 'some',\n",
              " 'such',\n",
              " 't',\n",
              " 'than',\n",
              " 'that',\n",
              " \"that'll\",\n",
              " 'the',\n",
              " 'their',\n",
              " 'theirs',\n",
              " 'them',\n",
              " 'themselves',\n",
              " 'then',\n",
              " 'there',\n",
              " 'these',\n",
              " 'they',\n",
              " \"they'd\",\n",
              " \"they'll\",\n",
              " \"they're\",\n",
              " \"they've\",\n",
              " 'this',\n",
              " 'those',\n",
              " 'through',\n",
              " 'to',\n",
              " 'too',\n",
              " 'under',\n",
              " 'until',\n",
              " 'up',\n",
              " 've',\n",
              " 'very',\n",
              " 'was',\n",
              " 'wasn',\n",
              " \"wasn't\",\n",
              " 'we',\n",
              " \"we'd\",\n",
              " \"we'll\",\n",
              " \"we're\",\n",
              " 'were',\n",
              " 'weren',\n",
              " \"weren't\",\n",
              " \"we've\",\n",
              " 'what',\n",
              " 'when',\n",
              " 'where',\n",
              " 'which',\n",
              " 'while',\n",
              " 'who',\n",
              " 'whom',\n",
              " 'why',\n",
              " 'will',\n",
              " 'with',\n",
              " 'won',\n",
              " \"won't\",\n",
              " 'wouldn',\n",
              " \"wouldn't\",\n",
              " 'y',\n",
              " 'you',\n",
              " \"you'd\",\n",
              " \"you'll\",\n",
              " 'your',\n",
              " \"you're\",\n",
              " 'yours',\n",
              " 'yourself',\n",
              " 'yourselves',\n",
              " \"you've\"]"
            ]
          },
          "metadata": {},
          "execution_count": 3
        }
      ]
    },
    {
      "cell_type": "code",
      "source": [
        "from nltk.stem import PorterStemmer"
      ],
      "metadata": {
        "id": "wao4Tkf81e9u"
      },
      "execution_count": 4,
      "outputs": []
    },
    {
      "cell_type": "code",
      "source": [
        "stemmer = PorterStemmer()"
      ],
      "metadata": {
        "id": "q6AGfFwl1uCv"
      },
      "execution_count": 5,
      "outputs": []
    },
    {
      "cell_type": "code",
      "source": [
        "import nltk\n",
        "nltk.download('punkt_tab')"
      ],
      "metadata": {
        "colab": {
          "base_uri": "https://localhost:8080/"
        },
        "id": "ydMVgrxp2Krm",
        "outputId": "312508eb-eea9-443c-bfd6-f7ee5c17fc95"
      },
      "execution_count": 9,
      "outputs": [
        {
          "output_type": "stream",
          "name": "stderr",
          "text": [
            "[nltk_data] Downloading package punkt_tab to /root/nltk_data...\n",
            "[nltk_data]   Unzipping tokenizers/punkt_tab.zip.\n"
          ]
        },
        {
          "output_type": "execute_result",
          "data": {
            "text/plain": [
              "True"
            ]
          },
          "metadata": {},
          "execution_count": 9
        }
      ]
    },
    {
      "cell_type": "code",
      "source": [
        "sentences = nltk.sent_tokenize(paragraph)"
      ],
      "metadata": {
        "id": "1tpjC6Na1wIr"
      },
      "execution_count": 11,
      "outputs": []
    },
    {
      "cell_type": "code",
      "source": [
        "for i in range(len(sentences)):\n",
        "  words = nltk.word_tokenize(sentences[i])\n",
        "  words = [stemmer.stem(word) for word in words if word not in set(stopwords.words('english'))]\n",
        "  sentences[i] = ' '.join(words)  #converting word in sentences"
      ],
      "metadata": {
        "id": "yi7NQSAI1z1a"
      },
      "execution_count": 13,
      "outputs": []
    },
    {
      "cell_type": "code",
      "source": [
        "sentences"
      ],
      "metadata": {
        "colab": {
          "base_uri": "https://localhost:8080/"
        },
        "id": "l2sik8gM3EUM",
        "outputId": "8907d8b3-f5bd-4e44-eb7f-41236c8ba279"
      },
      "execution_count": 14,
      "outputs": [
        {
          "output_type": "execute_result",
          "data": {
            "text/plain": [
              "[\"'' dream , dream , dream .\",\n",
              " \"dream transform thought , thought result action . ''\",\n",
              " 'my dear young friend , i messag today .',\n",
              " 'dream big .',\n",
              " 'dream give vision .',\n",
              " 'vision lead think .',\n",
              " 'think make work hard achiev vision .',\n",
              " 'when i see young mind like , i feel energi , i feel bright , i feel power transform nation .',\n",
              " 'each one abil make india great .',\n",
              " 'but , must confid .',\n",
              " 'never say , “ i it. ” say , “ i , i it. ” 🚀 on success failur don ’ fear failur .',\n",
              " 'failur first step success .',\n",
              " 'if never fail , never learn .',\n",
              " 'when i work slv-3 rocket , first launch fail .',\n",
              " 'the whole nation watch .',\n",
              " 'but learn failur — next attempt , succeed .',\n",
              " 'so , rememb : “ if fail , never give .',\n",
              " 'becaus f.a.i.l .',\n",
              " 'mean first attempt in learning. ” 💫 on courag determin you must goal life — someth excit everi morn .',\n",
              " 'when goal , difficulti come .',\n",
              " 'but difficulti destroy ; exist make stronger .',\n",
              " '“ man need difficulti necessari enjoy success. ” have courag think differ , invent , travel unexplor path , discov imposs , conquer problem .',\n",
              " '🇮🇳 on nation build india great nation rich heritag .',\n",
              " 'but hand — hand youth — make shine brighter .',\n",
              " '“ the ignit mind youth power resourc earth. ” so , work hard .',\n",
              " 'be honest .',\n",
              " 'have compass .',\n",
              " 'and , love countri contribut growth whatev way .',\n",
              " '✨ conclus my young friend , dream big .',\n",
              " 'work hard .',\n",
              " 'have persever .',\n",
              " 'and achiev success , rememb lift other .',\n",
              " '“ you dream dream come true . ”']"
            ]
          },
          "metadata": {},
          "execution_count": 14
        }
      ]
    },
    {
      "cell_type": "code",
      "source": [],
      "metadata": {
        "id": "o5Uqw6O33UV3"
      },
      "execution_count": null,
      "outputs": []
    }
  ]
}